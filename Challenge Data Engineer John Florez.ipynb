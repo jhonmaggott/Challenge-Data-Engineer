{
 "cells": [
  {
   "cell_type": "code",
   "execution_count": 3,
   "id": "cd140595-2643-4cb4-8de5-3ea74f8c2951",
   "metadata": {},
   "outputs": [],
   "source": [
    "from fastapi import FastAPI, HTTPException\n",
    "from sqlalchemy import create_engine, Column, Integer, String, DateTime, func\n",
    "from sqlalchemy.ext.declarative import declarative_base\n",
    "from sqlalchemy.orm import sessionmaker\n",
    "import pandas as pd\n",
    "import fastavro\n",
    "import os\n",
    "from datetime import datetime\n",
    "import mysql.connector\n",
    "import uvicorn\n",
    "import asyncio\n",
    "import nest_asyncio"
   ]
  },
  {
   "cell_type": "markdown",
   "id": "4b92f0e0-6001-477b-b0b6-9dee0153fa9c",
   "metadata": {},
   "source": [
    "# CHALLENGE 1"
   ]
  },
  {
   "cell_type": "code",
   "execution_count": 173,
   "id": "00f9f760-f5e8-467c-93ff-485f3169440f",
   "metadata": {},
   "outputs": [
    {
     "name": "stdout",
     "output_type": "stream",
     "text": [
      "<mysql.connector.connection_cext.CMySQLConnection object at 0x0000027D48E0B7A0>\n"
     ]
    }
   ],
   "source": [
    "conexion= mysql.connector.connect(user='root',password='Jh11092159.',\n",
    "                                  host='localhost',database='prueba',port='3306')\n",
    "print(conexion)"
   ]
  },
  {
   "cell_type": "code",
   "execution_count": 87,
   "id": "32680f1c-b444-4100-bca8-0c13d5acbf0d",
   "metadata": {},
   "outputs": [
    {
     "data": {
      "text/html": [
       "<div>\n",
       "<style scoped>\n",
       "    .dataframe tbody tr th:only-of-type {\n",
       "        vertical-align: middle;\n",
       "    }\n",
       "\n",
       "    .dataframe tbody tr th {\n",
       "        vertical-align: top;\n",
       "    }\n",
       "\n",
       "    .dataframe thead th {\n",
       "        text-align: right;\n",
       "    }\n",
       "</style>\n",
       "<table border=\"1\" class=\"dataframe\">\n",
       "  <thead>\n",
       "    <tr style=\"text-align: right;\">\n",
       "      <th></th>\n",
       "      <th>id</th>\n",
       "      <th>name</th>\n",
       "      <th>datetime</th>\n",
       "      <th>department_id</th>\n",
       "      <th>job_id</th>\n",
       "    </tr>\n",
       "  </thead>\n",
       "  <tbody>\n",
       "    <tr>\n",
       "      <th>0</th>\n",
       "      <td>1</td>\n",
       "      <td>Harold Vogt</td>\n",
       "      <td>2021-11-07 02:48:42+00:00</td>\n",
       "      <td>2.0</td>\n",
       "      <td>96.0</td>\n",
       "    </tr>\n",
       "    <tr>\n",
       "      <th>1</th>\n",
       "      <td>2</td>\n",
       "      <td>Ty Hofer</td>\n",
       "      <td>2021-05-30 05:43:46+00:00</td>\n",
       "      <td>8.0</td>\n",
       "      <td>0.0</td>\n",
       "    </tr>\n",
       "    <tr>\n",
       "      <th>2</th>\n",
       "      <td>3</td>\n",
       "      <td>Lyman Hadye</td>\n",
       "      <td>2021-09-01 23:27:38+00:00</td>\n",
       "      <td>5.0</td>\n",
       "      <td>52.0</td>\n",
       "    </tr>\n",
       "    <tr>\n",
       "      <th>3</th>\n",
       "      <td>4</td>\n",
       "      <td>Lotti Crowthe</td>\n",
       "      <td>2021-10-01 13:04:21+00:00</td>\n",
       "      <td>12.0</td>\n",
       "      <td>71.0</td>\n",
       "    </tr>\n",
       "    <tr>\n",
       "      <th>4</th>\n",
       "      <td>5</td>\n",
       "      <td>Gretna Lording</td>\n",
       "      <td>2021-10-10 22:22:17+00:00</td>\n",
       "      <td>6.0</td>\n",
       "      <td>80.0</td>\n",
       "    </tr>\n",
       "  </tbody>\n",
       "</table>\n",
       "</div>"
      ],
      "text/plain": [
       "   id            name                  datetime  department_id  job_id\n",
       "0   1     Harold Vogt 2021-11-07 02:48:42+00:00            2.0    96.0\n",
       "1   2        Ty Hofer 2021-05-30 05:43:46+00:00            8.0     0.0\n",
       "2   3     Lyman Hadye 2021-09-01 23:27:38+00:00            5.0    52.0\n",
       "3   4   Lotti Crowthe 2021-10-01 13:04:21+00:00           12.0    71.0\n",
       "4   5  Gretna Lording 2021-10-10 22:22:17+00:00            6.0    80.0"
      ]
     },
     "execution_count": 87,
     "metadata": {},
     "output_type": "execute_result"
    }
   ],
   "source": [
    "df_emp = pd.read_csv(\"hired_employees.csv\",sep=',',header=None, names=['id', 'name','datetime','department_id','job_id'])\n",
    "df_emp['datetime'] = pd.to_datetime(df_emp['datetime'])\n",
    "df_emp['name'] = df_emp['name'].fillna('')  # Rellenar con cadena vacía\n",
    "df_emp['department_id'] = df_emp['department_id'].fillna(0)  # Rellenar con 0\n",
    "df_emp['job_id'] = df_emp['job_id'].fillna(0)  # Rellenar con 0\n",
    "df_emp.head()"
   ]
  },
  {
   "cell_type": "markdown",
   "id": "9f13d001-0536-4218-bf6c-aa16604a17bb",
   "metadata": {},
   "source": [
    "### CREAR TABLAS EN MYSQL"
   ]
  },
  {
   "cell_type": "code",
   "execution_count": 117,
   "id": "c44c7b58-f0f4-4429-ae26-3313e5cfc6a6",
   "metadata": {},
   "outputs": [
    {
     "name": "stdout",
     "output_type": "stream",
     "text": [
      "Tablas creadas exitosamente.\n"
     ]
    }
   ],
   "source": [
    "\n",
    "# Función para crear las tablas\n",
    "def create_tables():\n",
    "    try:\n",
    "        cursor = conexion.cursor()\n",
    "\n",
    "        # Crear tabla departments\n",
    "        cursor.execute(\"\"\"\n",
    "            CREATE TABLE IF NOT EXISTS departments (\n",
    "                id INT PRIMARY KEY,\n",
    "                department VARCHAR(255) NOT NULL\n",
    "            )\n",
    "        \"\"\")\n",
    "\n",
    "        # Crear tabla jobs\n",
    "        cursor.execute(\"\"\"\n",
    "            CREATE TABLE IF NOT EXISTS jobs (\n",
    "                id INT PRIMARY KEY,\n",
    "                job VARCHAR(255) NOT NULL\n",
    "            )\n",
    "        \"\"\")\n",
    "\n",
    "        # Crear tabla hired_employees\n",
    "        cursor.execute(\"\"\"\n",
    "            CREATE TABLE IF NOT EXISTS hired_employees (\n",
    "                id INT PRIMARY KEY,\n",
    "                name VARCHAR(255),\n",
    "                datetime DATETIME,\n",
    "                department_id INT,\n",
    "                job_id INT\n",
    "            )\n",
    "        \"\"\")\n",
    "\n",
    "        conexion.commit()\n",
    "        cursor.close()\n",
    "        print(\"Tablas creadas exitosamente.\")\n",
    "    except Exception as e:\n",
    "        print(f\"Error al crear las tablas: {e}\")\n",
    "        raise Exception(f\"Error al crear las tablas: {e}\")\n",
    "\n",
    "# Ejecutar la función create_tables\n",
    "create_tables()"
   ]
  },
  {
   "cell_type": "markdown",
   "id": "72e45d25-4ce6-4a93-9f01-5e2de9be7503",
   "metadata": {},
   "source": [
    "### HACER INGESTA DE DATOS DESDE ARCHIVOS CSV"
   ]
  },
  {
   "cell_type": "code",
   "execution_count": 193,
   "id": "5c0e64ca-b3d1-4527-8dce-2a1494eb9802",
   "metadata": {},
   "outputs": [
    {
     "name": "stdout",
     "output_type": "stream",
     "text": [
      "Datos cargados exitosamente.\n"
     ]
    }
   ],
   "source": [
    "# Cargar datos desde CSV\n",
    "def load_csv_to_db():\n",
    "    try:\n",
    "        cursor = conexion.cursor()\n",
    "\n",
    "        # Cargar departamentos\n",
    "        df_dept = pd.read_csv(\"departments.csv\",sep=',',header=None, names=['id', 'department'])\n",
    "        for _, row in df_dept.iterrows():\n",
    "            cursor.execute(\"INSERT INTO departments (id, department) VALUES (%s, %s)\", (row['id'], row['department']))\n",
    "\n",
    "        # Cargar trabajos\n",
    "        df_jobs = pd.read_csv(\"jobs.csv\",sep=',',header=None, names=['id', 'job'])\n",
    "        for _, row in df_jobs.iterrows():\n",
    "            cursor.execute(\"INSERT INTO jobs (id, job) VALUES (%s, %s)\", (row['id'], row['job']))\n",
    "\n",
    "        # Cargar empleados\n",
    "        df_emp = pd.read_csv(\"hired_employees.csv\",sep=',',header=None, names=['id', 'name','datetime','department_id','job_id'])\n",
    "        df_emp['datetime'] = pd.to_datetime(df_emp['datetime'])\n",
    "        df_emp['name'] = df_emp['name'].fillna('')  # Rellenar con cadena vacía\n",
    "        df_emp['department_id'] = df_emp['department_id'].fillna(0)  # Rellenar con 0\n",
    "        df_emp['job_id'] = df_emp['job_id'].fillna(0)  # Rellenar con 0\n",
    "        df_emp = df_emp.replace({pd.NA: None})\n",
    "        for _, row in df_emp.iterrows():\n",
    "            cursor.execute(\"INSERT INTO hired_employees (id, name, datetime, department_id, job_id) VALUES (%s, %s, %s, %s, %s)\", \n",
    "                           (row['id'], row['name'], row['datetime'], row['department_id'], row['job_id']))\n",
    "\n",
    "        conexion.commit()\n",
    "        cursor.close()\n",
    "        print(\"Datos cargados exitosamente.\")\n",
    "    except Exception as e:\n",
    "        print(f\"Error al cargar datos: {e}\")\n",
    "        raise HTTPException(status_code=500, detail=str(e))\n",
    "\n",
    "# Ejecutar la función create_tables\n",
    "load_csv_to_db()"
   ]
  },
  {
   "cell_type": "markdown",
   "id": "2ae191a3-e89b-42a8-8fa9-f1de9ee7cc67",
   "metadata": {},
   "source": [
    "### CREAR BACKUP DE LAS TABLAS EN FORMATO AVRO"
   ]
  },
  {
   "cell_type": "code",
   "execution_count": 139,
   "id": "c7430be1-5cc4-40f4-bf73-2746ea1c278c",
   "metadata": {},
   "outputs": [
    {
     "name": "stdout",
     "output_type": "stream",
     "text": [
      "Backup de la tabla 'departments' guardado en '/Users/JOHN/datasets\\departments.avro'\n",
      "Backup de la tabla 'jobs' guardado en '/Users/JOHN/datasets\\jobs.avro'\n",
      "Error al hacer backup de la tabla 'hired_employees': an integer is required on field datetime\n"
     ]
    }
   ],
   "source": [
    "import mysql.connector\n",
    "import fastavro\n",
    "from fastavro import writer\n",
    "import os\n",
    "\n",
    "# Configura la conexión a MySQL\n",
    "def get_db_connection():\n",
    "    return mysql.connector.connect(\n",
    "        user='root',\n",
    "        password='Jh11092159.',\n",
    "        host='localhost',\n",
    "        database='prueba',\n",
    "        port='3306'\n",
    "    )\n",
    "\n",
    "# Función para hacer backup de una tabla en formato AVRO\n",
    "def backup_table_to_avro(table_name, output_file):\n",
    "    try:\n",
    "        conexion = get_db_connection()\n",
    "        cursor = conexion.cursor(dictionary=True)  # Usar dictionary=True para obtener resultados como diccionarios\n",
    "\n",
    "        # Obtener los datos de la tabla\n",
    "        cursor.execute(f\"SELECT * FROM {table_name}\")\n",
    "        rows = cursor.fetchall()\n",
    "\n",
    "        # Obtener el esquema de la tabla\n",
    "        cursor.execute(f\"DESCRIBE {table_name}\")\n",
    "        schema_fields = []\n",
    "        for column in cursor.fetchall():\n",
    "            field_name = column['Field']\n",
    "            field_type = column['Type']\n",
    "            # Mapear tipos de MySQL a tipos de AVRO\n",
    "            if 'int' in field_type:\n",
    "                avro_type = 'int'\n",
    "            elif 'varchar' in field_type or 'text' in field_type:\n",
    "                avro_type = 'string'\n",
    "            elif 'datetime' in field_type:\n",
    "                avro_type = {'type': 'long', 'logicalType': 'timestamp-millis'}\n",
    "            else:\n",
    "                avro_type = 'string'  # Por defecto, usar string\n",
    "            schema_fields.append({'name': field_name, 'type': avro_type})\n",
    "\n",
    "        # Definir el esquema AVRO\n",
    "        avro_schema = {\n",
    "            'type': 'record',\n",
    "            'name': table_name,\n",
    "            'fields': schema_fields\n",
    "        }\n",
    "\n",
    "        # Escribir los datos en un archivo AVRO\n",
    "        with open(output_file, 'wb') as avro_file:\n",
    "            writer(avro_file, avro_schema, rows)\n",
    "\n",
    "        print(f\"Backup de la tabla '{table_name}' guardado en '{output_file}'\")\n",
    "    except Exception as e:\n",
    "        print(f\"Error al hacer backup de la tabla '{table_name}': {e}\")\n",
    "    finally:\n",
    "        cursor.close()\n",
    "        conexion.close()\n",
    "\n",
    "# Ruta específica para guardar los backups\n",
    "backup_dir = \"/Users/JOHN/datasets\"\n",
    "if not os.path.exists(backup_dir):\n",
    "    os.makedirs(backup_dir)\n",
    "\n",
    "# Tablas a respaldar\n",
    "tables = ['departments', 'jobs', 'hired_employees']\n",
    "\n",
    "# Hacer backup de cada tabla\n",
    "for table in tables:\n",
    "    backup_file = os.path.join(backup_dir, f\"{table}.avro\")\n",
    "    backup_table_to_avro(table, backup_file)"
   ]
  },
  {
   "cell_type": "markdown",
   "id": "54f4c880-b6f1-4280-b06d-1b2494adbf20",
   "metadata": {},
   "source": [
    "### RESTAURAR BACKUP DE LAS TABLAS EN BASE DE DATOS"
   ]
  },
  {
   "cell_type": "code",
   "execution_count": 159,
   "id": "add46b20-435f-49df-b285-adb1ed29989c",
   "metadata": {},
   "outputs": [
    {
     "name": "stdout",
     "output_type": "stream",
     "text": [
      "Datos de la tabla 'departments' restaurados desde '/Users/JOHN/datasets\\departments.avro'\n",
      "Datos de la tabla 'jobs' restaurados desde '/Users/JOHN/datasets\\jobs.avro'\n",
      "Datos de la tabla 'hired_employees' restaurados desde '/Users/JOHN/datasets\\hired_employees.avro'\n"
     ]
    }
   ],
   "source": [
    "import mysql.connector\n",
    "import fastavro\n",
    "from fastavro import reader\n",
    "import os\n",
    "\n",
    "# Configura la conexión a MySQL\n",
    "def get_db_connection():\n",
    "    return mysql.connector.connect(\n",
    "        user='root',\n",
    "        password='Jh11092159.',\n",
    "        host='localhost',\n",
    "        database='prueba',\n",
    "        port='3306'\n",
    "    )\n",
    "\n",
    "# Función para restaurar una tabla desde un archivo AVRO\n",
    "def restore_table_from_avro(table_name, input_file):\n",
    "    try:\n",
    "        conexion = get_db_connection()\n",
    "        cursor = conexion.cursor()\n",
    "\n",
    "        # Leer los datos del archivo AVRO\n",
    "        with open(input_file, 'rb') as avro_file:\n",
    "            avro_reader = reader(avro_file)\n",
    "            rows = list(avro_reader)\n",
    "\n",
    "        # Insertar los datos en la tabla\n",
    "        for row in rows:\n",
    "            columns = ', '.join(row.keys())\n",
    "            values = ', '.join(['%s'] * len(row))\n",
    "            query = f\"INSERT INTO {table_name} ({columns}) VALUES ({values})\"\n",
    "            cursor.execute(query, tuple(row.values()))\n",
    "\n",
    "        conexion.commit()\n",
    "        print(f\"Datos de la tabla '{table_name}' restaurados desde '{input_file}'\")\n",
    "    except Exception as e:\n",
    "        print(f\"Error al restaurar la tabla '{table_name}': {e}\")\n",
    "    finally:\n",
    "        cursor.close()\n",
    "        conexion.close()\n",
    "\n",
    "# Ruta específica donde se encuentran los backups\n",
    "backup_dir = \"/Users/JOHN/datasets\"\n",
    "\n",
    "# Tablas a restaurar\n",
    "tables = ['departments', 'jobs', 'hired_employees']\n",
    "\n",
    "# Restaurar cada tabla desde su archivo AVRO\n",
    "for table in tables:\n",
    "    backup_file = os.path.join(backup_dir, f\"{table}.avro\")\n",
    "    if os.path.exists(backup_file):\n",
    "        restore_table_from_avro(table, backup_file)\n",
    "    else:\n",
    "        print(f\"Archivo de backup no encontrado para la tabla '{table}': {backup_file}\")"
   ]
  },
  {
   "cell_type": "markdown",
   "id": "4c9ba329-e984-4e8d-9e70-a2efdcc6a3e3",
   "metadata": {},
   "source": [
    "#### TRUNCAR DATOS DE TABLA PARA RESTAURAR BACKUP"
   ]
  },
  {
   "cell_type": "code",
   "execution_count": 189,
   "id": "8caf0654-82f7-40d3-bad2-6295e82ab15a",
   "metadata": {},
   "outputs": [],
   "source": [
    "cursor = conexion.cursor()\n",
    "cursor.execute(\"DELETE FROM departments\")  # Borra todos los registros existentes\n",
    "conexion.commit()"
   ]
  },
  {
   "cell_type": "code",
   "execution_count": 191,
   "id": "361fdd44-b263-4ccc-b0cb-4ed9f175b683",
   "metadata": {},
   "outputs": [],
   "source": [
    "cursor = conexion.cursor()\n",
    "cursor.execute(\"DELETE FROM jobs\")  # Borra todos los registros existentes\n",
    "conexion.commit()"
   ]
  },
  {
   "cell_type": "code",
   "execution_count": 185,
   "id": "5bf26c4a-53a8-49d4-bc84-02472ab3f39e",
   "metadata": {},
   "outputs": [],
   "source": [
    "cursor = conexion.cursor()\n",
    "cursor.execute(\"DELETE FROM hired_employees\")  # Borra todos los registros existentes\n",
    "conexion.commit()"
   ]
  },
  {
   "cell_type": "code",
   "execution_count": 216,
   "id": "03e1dab7-9572-49e4-8515-34862451c42f",
   "metadata": {},
   "outputs": [
    {
     "name": "stdout",
     "output_type": "stream",
     "text": [
      "        id                name            datetime  department_id  job_id\n",
      "0        1         Harold Vogt 2021-11-07 02:48:42              2      96\n",
      "1        2            Ty Hofer 2021-05-30 05:43:46              8       0\n",
      "2        3         Lyman Hadye 2021-09-01 23:27:38              5      52\n",
      "3        4       Lotti Crowthe 2021-10-01 13:04:21             12      71\n",
      "4        5      Gretna Lording 2021-10-10 22:22:17              6      80\n",
      "...    ...                 ...                 ...            ...     ...\n",
      "1994  1995          Goran Yong 2021-08-22 21:57:53              2      83\n",
      "1995  1996  Cirstoforo Youings 2021-04-01 17:48:42              3      23\n",
      "1996  1997     Wilek Yurkevich 2021-05-04 12:19:50              2     132\n",
      "1997  1998          Jerry Yven 2021-10-03 14:12:50              7     100\n",
      "1998  1999       Jerri Zebedee 2022-01-18 10:47:37              8      80\n",
      "\n",
      "[1999 rows x 5 columns]\n"
     ]
    },
    {
     "name": "stderr",
     "output_type": "stream",
     "text": [
      "C:\\Users\\JOHN\\AppData\\Local\\Temp\\ipykernel_16856\\3228171580.py:3: UserWarning: pandas only supports SQLAlchemy connectable (engine/connection) or database string URI or sqlite3 DBAPI2 connection. Other DBAPI2 objects are not tested. Please consider using SQLAlchemy.\n",
      "  df_resultados = pd.read_sql(query, conexion)\n"
     ]
    }
   ],
   "source": [
    "# Ejecutar un SELECT para verificar los datos cargados\n",
    "query = \"SELECT * FROM hired_employees\"\n",
    "df_resultados = pd.read_sql(query, conexion)\n",
    "\n",
    "# Mostrar los resultados en formato Pandas DataFrame\n",
    "print(df_resultados)"
   ]
  },
  {
   "cell_type": "code",
   "execution_count": 218,
   "id": "eb0ae42c-9652-4bdc-895a-85826b51bfb5",
   "metadata": {},
   "outputs": [
    {
     "name": "stdout",
     "output_type": "stream",
     "text": [
      "      id                          job\n",
      "0      1          Marketing Assistant\n",
      "1      2                     VP Sales\n",
      "2      3           Biostatistician IV\n",
      "3      4    Account Representative II\n",
      "4      5                 VP Marketing\n",
      "..   ...                          ...\n",
      "178  179         Software Engineer II\n",
      "179  180              Statistician IV\n",
      "180  181         Programmer Analyst I\n",
      "181  182     Account Representative I\n",
      "182  183  Administrative Assistant IV\n",
      "\n",
      "[183 rows x 2 columns]\n"
     ]
    },
    {
     "name": "stderr",
     "output_type": "stream",
     "text": [
      "C:\\Users\\JOHN\\AppData\\Local\\Temp\\ipykernel_16856\\3359273462.py:3: UserWarning: pandas only supports SQLAlchemy connectable (engine/connection) or database string URI or sqlite3 DBAPI2 connection. Other DBAPI2 objects are not tested. Please consider using SQLAlchemy.\n",
      "  df_resultados = pd.read_sql(query, conexion)\n"
     ]
    }
   ],
   "source": [
    "# Ejecutar un SELECT para verificar los datos cargados\n",
    "query = \"SELECT * FROM jobs\"\n",
    "df_resultados = pd.read_sql(query, conexion)\n",
    "\n",
    "# Mostrar los resultados en formato Pandas DataFrame\n",
    "print(df_resultados)"
   ]
  },
  {
   "cell_type": "code",
   "execution_count": 220,
   "id": "d9ecd5c1-d636-404b-8aa4-22041417750a",
   "metadata": {},
   "outputs": [
    {
     "name": "stdout",
     "output_type": "stream",
     "text": [
      "    id                department\n",
      "0    1        Product Management\n",
      "1    2                     Sales\n",
      "2    3  Research and Development\n",
      "3    4      Business Development\n",
      "4    5               Engineering\n",
      "5    6           Human Resources\n",
      "6    7                  Services\n",
      "7    8                   Support\n",
      "8    9                 Marketing\n",
      "9   10                  Training\n",
      "10  11                     Legal\n",
      "11  12                Accounting\n"
     ]
    },
    {
     "name": "stderr",
     "output_type": "stream",
     "text": [
      "C:\\Users\\JOHN\\AppData\\Local\\Temp\\ipykernel_16856\\1561271853.py:3: UserWarning: pandas only supports SQLAlchemy connectable (engine/connection) or database string URI or sqlite3 DBAPI2 connection. Other DBAPI2 objects are not tested. Please consider using SQLAlchemy.\n",
      "  df_resultados = pd.read_sql(query, conexion)\n"
     ]
    }
   ],
   "source": [
    "# Ejecutar un SELECT para verificar los datos cargados\n",
    "query = \"SELECT * FROM departments\"\n",
    "df_resultados = pd.read_sql(query, conexion)\n",
    "\n",
    "# Mostrar los resultados en formato Pandas DataFrame\n",
    "print(df_resultados)"
   ]
  },
  {
   "cell_type": "code",
   "execution_count": 126,
   "id": "7c98e4b8-86a5-471a-a981-1dd0dd72e64e",
   "metadata": {},
   "outputs": [
    {
     "name": "stdout",
     "output_type": "stream",
     "text": [
      "Datos combinados de las tres tablas:\n",
      "        id                name            datetime                department  \\\n",
      "0        1         Harold Vogt 2021-11-07 02:48:42                     Sales   \n",
      "1        3         Lyman Hadye 2021-09-01 23:27:38               Engineering   \n",
      "2        4       Lotti Crowthe 2021-10-01 13:04:21                Accounting   \n",
      "3        5      Gretna Lording 2021-10-10 22:22:17           Human Resources   \n",
      "4        6      Marlow Antecki 2021-04-23 23:45:42           Human Resources   \n",
      "...    ...                 ...                 ...                       ...   \n",
      "1957  1995          Goran Yong 2021-08-22 21:57:53                     Sales   \n",
      "1958  1996  Cirstoforo Youings 2021-04-01 17:48:42  Research and Development   \n",
      "1959  1997     Wilek Yurkevich 2021-05-04 12:19:50                     Sales   \n",
      "1960  1998          Jerry Yven 2021-10-03 14:12:50                  Services   \n",
      "1961  1999       Jerri Zebedee 2022-01-18 10:47:37                   Support   \n",
      "\n",
      "                               job  \n",
      "0                 Health Coach III  \n",
      "1     Structural Analysis Engineer  \n",
      "2                  Statistician II  \n",
      "3                 Quality Engineer  \n",
      "4                  Web Designer II  \n",
      "...                            ...  \n",
      "1957               Cost Accountant  \n",
      "1958        Administrative Officer  \n",
      "1959          Staff Accountant III  \n",
      "1960              Senior Developer  \n",
      "1961              Quality Engineer  \n",
      "\n",
      "[1962 rows x 5 columns]\n"
     ]
    }
   ],
   "source": [
    "# Crear un cursor para ejecutar consultas SQL\n",
    "cursor = conexion.cursor()\n",
    "\n",
    "# Obtener datos de la tabla departments\n",
    "cursor.execute(\"SELECT * FROM departments\")\n",
    "departments_data = cursor.fetchall()\n",
    "df_departments = pd.DataFrame(departments_data, columns=['id', 'department'])\n",
    "\n",
    "# Obtener datos de la tabla jobs\n",
    "cursor.execute(\"SELECT * FROM jobs\")\n",
    "jobs_data = cursor.fetchall()\n",
    "df_jobs = pd.DataFrame(jobs_data, columns=['id', 'job'])\n",
    "\n",
    "# Obtener datos de la tabla hired_employees\n",
    "cursor.execute(\"SELECT * FROM hired_employees\")\n",
    "hired_employees_data = cursor.fetchall()\n",
    "df_hired_employees = pd.DataFrame(hired_employees_data, columns=['id', 'name', 'datetime', 'department_id', 'job_id'])\n",
    "\n",
    "# Combinar los DataFrames usando las claves foráneas\n",
    "# Primero, combinar hired_employees con departments\n",
    "df_combined = pd.merge(df_hired_employees, df_departments, left_on='department_id', right_on='id', suffixes=('', '_dept'))\n",
    "\n",
    "# Luego, combinar el resultado con jobs\n",
    "df_combined = pd.merge(df_combined, df_jobs, left_on='job_id', right_on='id', suffixes=('', '_job'))\n",
    "\n",
    "# Seleccionar las columnas relevantes\n",
    "df_combined = df_combined[['id', 'name', 'datetime', 'department', 'job']]\n",
    "\n",
    "# Mostrar el DataFrame combinado\n",
    "print(\"Datos combinados de las tres tablas:\")\n",
    "print(df_combined)"
   ]
  },
  {
   "cell_type": "markdown",
   "id": "16ecc724-799b-46e4-b5de-1e2ebbca02f0",
   "metadata": {},
   "source": [
    "### [OPCIONAL NO EJECUTAR] BORRAR TODAS LAS TABLAS DE LA BASE DE DATOS"
   ]
  },
  {
   "cell_type": "code",
   "execution_count": 53,
   "id": "048b75b1-6974-433f-9a54-196255754ad7",
   "metadata": {},
   "outputs": [
    {
     "name": "stdout",
     "output_type": "stream",
     "text": [
      "Error al borrar la tabla 'departments': 3730 (HY000): Cannot drop table 'departments' referenced by a foreign key constraint 'hired_employees_ibfk_1' on table 'hired_employees'.\n",
      "Error al borrar la tabla 'jobs': 3730 (HY000): Cannot drop table 'jobs' referenced by a foreign key constraint 'hired_employees_ibfk_2' on table 'hired_employees'.\n",
      "Tabla 'hired_employees' borrada exitosamente.\n"
     ]
    }
   ],
   "source": [
    "cursor = conexion.cursor()\n",
    "\n",
    "# Lista de tablas a borrar\n",
    "#tablas = [\"departments\", \"jobs\", \"hired_employees\"]\n",
    "\n",
    "# Borrar cada tabla\n",
    "for tabla in tablas:\n",
    "    try:\n",
    "        cursor.execute(f\"DROP TABLE IF EXISTS {tabla}\")\n",
    "        print(f\"Tabla '{tabla}' borrada exitosamente.\")\n",
    "    except mysql.connector.Error as err:\n",
    "        print(f\"Error al borrar la tabla '{tabla}': {err}\")\n",
    "\n",
    "# Confirmar los cambios y cerrar la conexión\n",
    "conexion.commit()\n",
    "cursor.close()\n",
    "conexion.close()"
   ]
  },
  {
   "cell_type": "markdown",
   "id": "49d65402-947b-4269-9b9f-ceacfe85f1a4",
   "metadata": {},
   "source": [
    "# CHALLENGE 2"
   ]
  },
  {
   "cell_type": "markdown",
   "id": "e832e033-78af-40a6-93f8-93019b6f23a5",
   "metadata": {},
   "source": [
    "### Number of employees hired for each job and department in 2021 divided by quarter. The table must be ordered alphabetically by department and job."
   ]
  },
  {
   "cell_type": "code",
   "execution_count": 130,
   "id": "d6e66de4-2d93-48f1-bc94-9729aaaece85",
   "metadata": {},
   "outputs": [
    {
     "name": "stdout",
     "output_type": "stream",
     "text": [
      "Empleados contratados por trimestre en 2021:\n",
      "     department                            job Q1 Q2 Q3 Q4\n",
      "0    Accounting      Account Representative IV  1  0  0  0\n",
      "1    Accounting                        Actuary  0  1  0  0\n",
      "2    Accounting             Analyst Programmer  0  0  1  0\n",
      "3    Accounting  Budget/Accounting Analyst III  0  1  0  0\n",
      "4    Accounting                Cost Accountant  0  1  0  0\n",
      "..          ...                            ... .. .. .. ..\n",
      "933    Training                        Teacher  0  2  0  0\n",
      "934    Training               Technical Writer  0  0  1  0\n",
      "935    Training          VP Product Management  1  0  0  0\n",
      "936    Training             VP Quality Control  0  1  0  0\n",
      "937    Training              Web Developer III  0  1  0  0\n",
      "\n",
      "[938 rows x 6 columns]\n"
     ]
    }
   ],
   "source": [
    "import pandas as pd\n",
    "import mysql.connector\n",
    "\n",
    "# Configura la conexión a MySQL\n",
    "def get_db_connection():\n",
    "    return mysql.connector.connect(\n",
    "        user='root',\n",
    "        password='Jh11092159.',\n",
    "        host='localhost',\n",
    "        database='prueba',\n",
    "        port='3306'\n",
    "    )\n",
    "\n",
    "# Función para ejecutar una consulta y devolver un DataFrame\n",
    "def execute_query_to_dataframe(query, columns):\n",
    "    try:\n",
    "        conexion = get_db_connection()\n",
    "        cursor = conexion.cursor()\n",
    "\n",
    "        cursor.execute(query)\n",
    "        resultados = cursor.fetchall()\n",
    "\n",
    "        # Convertir los resultados a un DataFrame de Pandas\n",
    "        df = pd.DataFrame(resultados, columns=columns)\n",
    "\n",
    "        # Cerrar la conexión\n",
    "        cursor.close()\n",
    "        conexion.close()\n",
    "\n",
    "        return df\n",
    "    except Exception as e:\n",
    "        print(f\"Error: {e}\")\n",
    "        return None\n",
    "\n",
    "# Consulta para el primer requisito: Empleados por trimestre en 2021\n",
    "query_employees_by_quarter = \"\"\"\n",
    "SELECT \n",
    "    d.department,\n",
    "    j.job,\n",
    "    SUM(CASE WHEN QUARTER(he.datetime) = 1 THEN 1 ELSE 0 END) AS Q1,\n",
    "    SUM(CASE WHEN QUARTER(he.datetime) = 2 THEN 1 ELSE 0 END) AS Q2,\n",
    "    SUM(CASE WHEN QUARTER(he.datetime) = 3 THEN 1 ELSE 0 END) AS Q3,\n",
    "    SUM(CASE WHEN QUARTER(he.datetime) = 4 THEN 1 ELSE 0 END) AS Q4\n",
    "FROM \n",
    "    hired_employees he\n",
    "JOIN \n",
    "    departments d ON he.department_id = d.id\n",
    "JOIN \n",
    "    jobs j ON he.job_id = j.id\n",
    "WHERE \n",
    "    YEAR(he.datetime) = 2021\n",
    "GROUP BY \n",
    "    d.department, j.job\n",
    "ORDER BY \n",
    "    d.department, j.job;\n",
    "\"\"\"\n",
    "columns_employees_by_quarter = ['department', 'job', 'Q1', 'Q2', 'Q3', 'Q4']\n",
    "\n",
    "# Ejecutar la consulta y obtener el DataFrame\n",
    "df_employees_by_quarter = execute_query_to_dataframe(query_employees_by_quarter, columns_employees_by_quarter)\n",
    "\n",
    "# Mostrar el DataFrame\n",
    "if df_employees_by_quarter is not None:\n",
    "    print(\"Empleados contratados por trimestre en 2021:\")\n",
    "    print(df_employees_by_quarter)"
   ]
  },
  {
   "cell_type": "code",
   "execution_count": 208,
   "id": "2e1fe0db-6c28-4538-b2e7-af8b4cb17d52",
   "metadata": {},
   "outputs": [
    {
     "name": "stderr",
     "output_type": "stream",
     "text": [
      "C:\\Users\\JOHN\\AppData\\Local\\Temp\\ipykernel_16856\\2371881991.py:16: FutureWarning: \n",
      "\n",
      "The `ci` parameter is deprecated. Use `errorbar=None` for the same effect.\n",
      "\n",
      "  sns.barplot(x='department', y='Hires', hue='Quarter', data=df_long, ci=None)\n"
     ]
    },
    {
     "data": {
      "image/png": "[encoded data removed]",
      "text/plain": [
       "<Figure size 1200x600 with 1 Axes>"
      ]
     },
     "metadata": {},
     "output_type": "display_data"
    }
   ],
   "source": [
    "import pandas as pd\n",
    "import matplotlib.pyplot as plt\n",
    "import seaborn as sns\n",
    "\n",
    "# Datos de ejemplo (reemplaza esto con los datos reales de tu consulta SQL)\n",
    "data = df_employees_by_quarter\n",
    "\n",
    "# Crear un DataFrame\n",
    "df = pd.DataFrame(data)\n",
    "\n",
    "# Convertir el DataFrame a formato largo para facilitar la visualización\n",
    "df_long = df.melt(id_vars=['department', 'job'], var_name='Quarter', value_name='Hires')\n",
    "\n",
    "# Crear el gráfico de barras agrupadas\n",
    "plt.figure(figsize=(12, 6))\n",
    "sns.barplot(x='department', y='Hires', hue='Quarter', data=df_long, ci=None)\n",
    "\n",
    "# Personalizar el gráfico\n",
    "plt.title('Empleados contratados por departamento y trabajo en 2021')\n",
    "plt.xlabel('Departamento')\n",
    "plt.ylabel('Número de contrataciones')\n",
    "plt.legend(title='Trimestre')\n",
    "plt.tight_layout()\n",
    "# Girar los títulos del eje x\n",
    "plt.xticks(rotation=45)  # Gira los títulos 45 grados\n",
    "\n",
    "# Ajustar el layout para que no se corten los títulos\n",
    "plt.tight_layout()\n",
    "\n",
    "# Mostrar el gráfico\n",
    "plt.show()"
   ]
  },
  {
   "cell_type": "markdown",
   "id": "8f8044cd-ff98-4417-a6bb-10f7bf52f764",
   "metadata": {},
   "source": [
    "### List of ids, name and number of employees hired of each department that hired more employees than the mean of employees hired in 2021 for all the departments, ordered by the number of employees hired (descending)."
   ]
  },
  {
   "cell_type": "code",
   "execution_count": 132,
   "id": "41393303-5d04-4684-81ff-f07cab534635",
   "metadata": {},
   "outputs": [
    {
     "name": "stdout",
     "output_type": "stream",
     "text": [
      "\n",
      "Departamentos que contrataron más que la media en 2021:\n",
      "   id                department  hired\n",
      "0   8                   Support    221\n",
      "1   5               Engineering    208\n",
      "2   6           Human Resources    204\n",
      "3   7                  Services    204\n",
      "4   4      Business Development    187\n",
      "5   3  Research and Development    151\n",
      "6   9                 Marketing    143\n"
     ]
    }
   ],
   "source": [
    "# Consulta para el segundo requisito: Departamentos que contrataron más que la media en 2021\n",
    "query_departments_above_mean = \"\"\"\n",
    "WITH department_hires AS (\n",
    "    SELECT \n",
    "        d.id,\n",
    "        d.department,\n",
    "        COUNT(he.id) AS hired\n",
    "    FROM \n",
    "        hired_employees he\n",
    "    JOIN \n",
    "        departments d ON he.department_id = d.id\n",
    "    WHERE \n",
    "        YEAR(he.datetime) = 2021\n",
    "    GROUP BY \n",
    "        d.id, d.department\n",
    "),\n",
    "mean_hires AS (\n",
    "    SELECT \n",
    "        AVG(hired) AS mean_hired\n",
    "    FROM \n",
    "        department_hires\n",
    ")\n",
    "SELECT \n",
    "    dh.id,\n",
    "    dh.department,\n",
    "    dh.hired\n",
    "FROM \n",
    "    department_hires dh, mean_hires mh\n",
    "WHERE \n",
    "    dh.hired > mh.mean_hired\n",
    "ORDER BY \n",
    "    dh.hired DESC;\n",
    "\"\"\"\n",
    "columns_departments_above_mean = ['id', 'department', 'hired']\n",
    "\n",
    "# Ejecutar la consulta y obtener el DataFrame\n",
    "df_departments_above_mean = execute_query_to_dataframe(query_departments_above_mean, columns_departments_above_mean)\n",
    "\n",
    "# Mostrar el DataFrame\n",
    "if df_departments_above_mean is not None:\n",
    "    print(\"\\nDepartamentos que contrataron más que la media en 2021:\")\n",
    "    print(df_departments_above_mean)"
   ]
  },
  {
   "cell_type": "code",
   "execution_count": 214,
   "id": "f086d7d6-824f-403a-96d5-0c439d9d93d7",
   "metadata": {},
   "outputs": [
    {
     "name": "stderr",
     "output_type": "stream",
     "text": [
      "C:\\Users\\JOHN\\AppData\\Local\\Temp\\ipykernel_16856\\1945882213.py:9: FutureWarning: \n",
      "\n",
      "Passing `palette` without assigning `hue` is deprecated and will be removed in v0.14.0. Assign the `y` variable to `hue` and set `legend=False` for the same effect.\n",
      "\n",
      "  sns.barplot(x='hired', y='department', data=df, palette='viridis')\n"
     ]
    },
    {
     "data": {
      "image/png": "[encoded data removed]",
      "text/plain": [
       "<Figure size 1000x600 with 1 Axes>"
      ]
     },
     "metadata": {},
     "output_type": "display_data"
    }
   ],
   "source": [
    "# Datos de ejemplo (reemplaza esto con los datos reales de tu consulta SQL)\n",
    "data = df_departments_above_mean\n",
    "\n",
    "# Crear un DataFrame\n",
    "df = pd.DataFrame(data)\n",
    "\n",
    "# Crear el gráfico de barras horizontales\n",
    "plt.figure(figsize=(10, 6))\n",
    "sns.barplot(x='hired', y='department', data=df, palette='viridis')\n",
    "\n",
    "# Personalizar el gráfico\n",
    "plt.title('Departamentos que contrataron más empleados que la media en 2021')\n",
    "plt.xlabel('Número de contrataciones')\n",
    "plt.ylabel('Departamento')\n",
    "plt.tight_layout()\n",
    "\n",
    "# Mostrar el gráfico\n",
    "plt.show()"
   ]
  },
  {
   "cell_type": "code",
   "execution_count": null,
   "id": "908ee3a8-7703-4d80-bf9f-d63f3e6fb1a1",
   "metadata": {},
   "outputs": [],
   "source": []
  }
 ],
 "metadata": {
  "kernelspec": {
   "display_name": "Python [conda env:base] *",
   "language": "python",
   "name": "conda-base-py"
  },
  "language_info": {
   "codemirror_mode": {
    "name": "ipython",
    "version": 3
   },
   "file_extension": ".py",
   "mimetype": "text/x-python",
   "name": "python",
   "nbconvert_exporter": "python",
   "pygments_lexer": "ipython3",
   "version": "3.12.7"
  }
 },
 "nbformat": 4,
 "nbformat_minor": 5
}
